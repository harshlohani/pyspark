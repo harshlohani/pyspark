{
 "cells": [
  {
   "cell_type": "code",
   "execution_count": 1,
   "id": "d9b3cf8f",
   "metadata": {},
   "outputs": [
    {
     "name": "stdout",
     "output_type": "stream",
     "text": [
      "Requirement already satisfied: pandas in /Users/harsh/anaconda3/lib/python3.11/site-packages (2.0.3)\n",
      "Requirement already satisfied: python-dateutil>=2.8.2 in /Users/harsh/anaconda3/lib/python3.11/site-packages (from pandas) (2.8.2)\n",
      "Requirement already satisfied: pytz>=2020.1 in /Users/harsh/anaconda3/lib/python3.11/site-packages (from pandas) (2023.3.post1)\n",
      "Requirement already satisfied: tzdata>=2022.1 in /Users/harsh/anaconda3/lib/python3.11/site-packages (from pandas) (2023.3)\n",
      "Requirement already satisfied: numpy>=1.21.0 in /Users/harsh/anaconda3/lib/python3.11/site-packages (from pandas) (1.24.3)\n",
      "Requirement already satisfied: six>=1.5 in /Users/harsh/anaconda3/lib/python3.11/site-packages (from python-dateutil>=2.8.2->pandas) (1.16.0)\n"
     ]
    }
   ],
   "source": [
    "!pip install pandas"
   ]
  },
  {
   "cell_type": "code",
   "execution_count": 2,
   "id": "b7a2ebe7",
   "metadata": {},
   "outputs": [],
   "source": [
    "import pyspark"
   ]
  },
  {
   "cell_type": "code",
   "execution_count": 3,
   "id": "81d7e7f1",
   "metadata": {},
   "outputs": [
    {
     "data": {
      "text/html": [
       "<div>\n",
       "<style scoped>\n",
       "    .dataframe tbody tr th:only-of-type {\n",
       "        vertical-align: middle;\n",
       "    }\n",
       "\n",
       "    .dataframe tbody tr th {\n",
       "        vertical-align: top;\n",
       "    }\n",
       "\n",
       "    .dataframe thead th {\n",
       "        text-align: right;\n",
       "    }\n",
       "</style>\n",
       "<table border=\"1\" class=\"dataframe\">\n",
       "  <thead>\n",
       "    <tr style=\"text-align: right;\">\n",
       "      <th></th>\n",
       "      <th>name</th>\n",
       "      <th>place</th>\n",
       "      <th>age</th>\n",
       "    </tr>\n",
       "  </thead>\n",
       "  <tbody>\n",
       "    <tr>\n",
       "      <th>0</th>\n",
       "      <td>HL</td>\n",
       "      <td>hqwjdbxqwj</td>\n",
       "      <td>32</td>\n",
       "    </tr>\n",
       "    <tr>\n",
       "      <th>1</th>\n",
       "      <td>ab</td>\n",
       "      <td>dbqjhbdqhd</td>\n",
       "      <td>43</td>\n",
       "    </tr>\n",
       "    <tr>\n",
       "      <th>2</th>\n",
       "      <td>dnsajk</td>\n",
       "      <td>dqbjwqwdq</td>\n",
       "      <td>73</td>\n",
       "    </tr>\n",
       "    <tr>\n",
       "      <th>3</th>\n",
       "      <td>Asdb</td>\n",
       "      <td>Bjhdam s</td>\n",
       "      <td>21</td>\n",
       "    </tr>\n",
       "    <tr>\n",
       "      <th>4</th>\n",
       "      <td>dsakdjbad</td>\n",
       "      <td>Dabd an dqwd</td>\n",
       "      <td>64</td>\n",
       "    </tr>\n",
       "    <tr>\n",
       "      <th>5</th>\n",
       "      <td>djdwddw</td>\n",
       "      <td>Dbqjdjhdbq xaqx</td>\n",
       "      <td>38</td>\n",
       "    </tr>\n",
       "    <tr>\n",
       "      <th>6</th>\n",
       "      <td>kduqyhnwdx</td>\n",
       "      <td>xkqwbd</td>\n",
       "      <td>55</td>\n",
       "    </tr>\n",
       "    <tr>\n",
       "      <th>7</th>\n",
       "      <td>abscancaqwd</td>\n",
       "      <td>Baiukqxa</td>\n",
       "      <td>15</td>\n",
       "    </tr>\n",
       "  </tbody>\n",
       "</table>\n",
       "</div>"
      ],
      "text/plain": [
       "          name            place  age\n",
       "0           HL       hqwjdbxqwj   32\n",
       "1           ab       dbqjhbdqhd   43\n",
       "2       dnsajk        dqbjwqwdq   73\n",
       "3         Asdb         Bjhdam s   21\n",
       "4    dsakdjbad     Dabd an dqwd   64\n",
       "5      djdwddw  Dbqjdjhdbq xaqx   38\n",
       "6   kduqyhnwdx           xkqwbd   55\n",
       "7  abscancaqwd         Baiukqxa   15"
      ]
     },
     "execution_count": 3,
     "metadata": {},
     "output_type": "execute_result"
    }
   ],
   "source": [
    "import pandas as pd\n",
    "pd.read_csv(\"sample1.csv\")"
   ]
  },
  {
   "cell_type": "code",
   "execution_count": 4,
   "id": "e3edd41b",
   "metadata": {},
   "outputs": [],
   "source": [
    "##The SparkSession class is the entry point for working with Spark SQL, which is an API for working with structured data (data organized in rows and columns) in Spark.\n",
    "# By importing SparkSession, you gain access to functionalities for creating SparkSession objects, interacting with data sources, and performing various data processing operations.\n",
    "from pyspark.sql import SparkSession"
   ]
  },
  {
   "cell_type": "code",
   "execution_count": 5,
   "id": "b40c6ad3",
   "metadata": {},
   "outputs": [
    {
     "name": "stderr",
     "output_type": "stream",
     "text": [
      "Setting default log level to \"WARN\".\n",
      "To adjust logging level use sc.setLogLevel(newLevel). For SparkR, use setLogLevel(newLevel).\n",
      "24/05/05 03:30:42 WARN NativeCodeLoader: Unable to load native-hadoop library for your platform... using builtin-java classes where applicable\n"
     ]
    }
   ],
   "source": [
    "\n",
    "#SparkSession.builder: This creates a builder object to configure the SparkSession.\n",
    "#appName('Practice'): This method sets the application name as \"Practice\". This name is simply a label for your Spark application and can be helpful for identification in logs or cluster management.\n",
    "#getOrCreate(): This method builds the SparkSession object based on the configurations and attempts to retrieve an existing SparkSession if one is already running. If no existing session is found, it creates a new one.\n",
    "\n",
    "spark=SparkSession.builder.appName('Practice').getOrCreate()"
   ]
  },
  {
   "cell_type": "code",
   "execution_count": 6,
   "id": "163b5d63",
   "metadata": {},
   "outputs": [
    {
     "data": {
      "text/html": [
       "\n",
       "            <div>\n",
       "                <p><b>SparkSession - in-memory</b></p>\n",
       "                \n",
       "        <div>\n",
       "            <p><b>SparkContext</b></p>\n",
       "\n",
       "            <p><a href=\"http://192.168.1.215:4040\">Spark UI</a></p>\n",
       "\n",
       "            <dl>\n",
       "              <dt>Version</dt>\n",
       "                <dd><code>v3.5.1</code></dd>\n",
       "              <dt>Master</dt>\n",
       "                <dd><code>local[*]</code></dd>\n",
       "              <dt>AppName</dt>\n",
       "                <dd><code>Practice</code></dd>\n",
       "            </dl>\n",
       "        </div>\n",
       "        \n",
       "            </div>\n",
       "        "
      ],
      "text/plain": [
       "<pyspark.sql.session.SparkSession at 0x13c94e690>"
      ]
     },
     "execution_count": 6,
     "metadata": {},
     "output_type": "execute_result"
    }
   ],
   "source": [
    "spark"
   ]
  },
  {
   "cell_type": "code",
   "execution_count": 7,
   "id": "a3ecc443",
   "metadata": {},
   "outputs": [],
   "source": [
    "df_pyspark=spark.read.csv('sample1.csv')"
   ]
  },
  {
   "cell_type": "code",
   "execution_count": 8,
   "id": "503497fe",
   "metadata": {},
   "outputs": [
    {
     "data": {
      "text/plain": [
       "DataFrame[_c0: string, _c1: string, _c2: string]"
      ]
     },
     "execution_count": 8,
     "metadata": {},
     "output_type": "execute_result"
    }
   ],
   "source": [
    "df_pyspark"
   ]
  },
  {
   "cell_type": "code",
   "execution_count": 9,
   "id": "391b4aa3",
   "metadata": {},
   "outputs": [
    {
     "name": "stdout",
     "output_type": "stream",
     "text": [
      "+-----------+---------------+---+\n",
      "|        _c0|            _c1|_c2|\n",
      "+-----------+---------------+---+\n",
      "|       name|          place|age|\n",
      "|         HL|     hqwjdbxqwj| 32|\n",
      "|         ab|     dbqjhbdqhd| 43|\n",
      "|     dnsajk|      dqbjwqwdq| 73|\n",
      "|       Asdb|       Bjhdam s| 21|\n",
      "|  dsakdjbad|   Dabd an dqwd| 64|\n",
      "|    djdwddw|Dbqjdjhdbq xaqx| 38|\n",
      "| kduqyhnwdx|         xkqwbd| 55|\n",
      "|abscancaqwd|       Baiukqxa| 15|\n",
      "+-----------+---------------+---+\n",
      "\n"
     ]
    }
   ],
   "source": [
    "df_pyspark.show()"
   ]
  },
  {
   "cell_type": "code",
   "execution_count": 23,
   "id": "507bdaba",
   "metadata": {},
   "outputs": [],
   "source": [
    "df_pyspark=spark.read.option('header','true').csv('sample1.csv',inferSchema=True)"
   ]
  },
  {
   "cell_type": "code",
   "execution_count": 24,
   "id": "3fe8b8da",
   "metadata": {},
   "outputs": [
    {
     "data": {
      "text/plain": [
       "pyspark.sql.dataframe.DataFrame"
      ]
     },
     "execution_count": 24,
     "metadata": {},
     "output_type": "execute_result"
    }
   ],
   "source": [
    "type(df_pyspark)"
   ]
  },
  {
   "cell_type": "code",
   "execution_count": 25,
   "id": "b53c643e",
   "metadata": {},
   "outputs": [
    {
     "name": "stdout",
     "output_type": "stream",
     "text": [
      "+-----------+---------------+---+\n",
      "|       name|          place|age|\n",
      "+-----------+---------------+---+\n",
      "|         HL|     hqwjdbxqwj| 32|\n",
      "|         ab|     dbqjhbdqhd| 43|\n",
      "|     dnsajk|      dqbjwqwdq| 73|\n",
      "|       Asdb|       Bjhdam s| 21|\n",
      "|  dsakdjbad|   Dabd an dqwd| 64|\n",
      "|    djdwddw|Dbqjdjhdbq xaqx| 38|\n",
      "| kduqyhnwdx|         xkqwbd| 55|\n",
      "|abscancaqwd|       Baiukqxa| 15|\n",
      "+-----------+---------------+---+\n",
      "\n"
     ]
    }
   ],
   "source": [
    "df_pyspark.show()"
   ]
  },
  {
   "cell_type": "code",
   "execution_count": 26,
   "id": "6a5e522c",
   "metadata": {},
   "outputs": [
    {
     "name": "stdout",
     "output_type": "stream",
     "text": [
      "root\n",
      " |-- name: string (nullable = true)\n",
      " |-- place: string (nullable = true)\n",
      " |-- age: integer (nullable = true)\n",
      "\n"
     ]
    }
   ],
   "source": [
    "df_pyspark.printSchema()"
   ]
  },
  {
   "cell_type": "code",
   "execution_count": 54,
   "id": "3e3fb309",
   "metadata": {},
   "outputs": [
    {
     "data": {
      "text/plain": [
       "['name', 'place', 'age']"
      ]
     },
     "execution_count": 54,
     "metadata": {},
     "output_type": "execute_result"
    }
   ],
   "source": [
    "df_pyspark.columns"
   ]
  },
  {
   "cell_type": "code",
   "execution_count": 56,
   "id": "3a85b45b",
   "metadata": {},
   "outputs": [
    {
     "name": "stdout",
     "output_type": "stream",
     "text": [
      "+---+---------------+-----------+\n",
      "|age|          place|       name|\n",
      "+---+---------------+-----------+\n",
      "| 32|     hqwjdbxqwj|         HL|\n",
      "| 43|     dbqjhbdqhd|         ab|\n",
      "| 73|      dqbjwqwdq|     dnsajk|\n",
      "| 21|       Bjhdam s|       Asdb|\n",
      "| 64|   Dabd an dqwd|  dsakdjbad|\n",
      "| 38|Dbqjdjhdbq xaqx|    djdwddw|\n",
      "| 55|         xkqwbd| kduqyhnwdx|\n",
      "| 15|       Baiukqxa|abscancaqwd|\n",
      "+---+---------------+-----------+\n",
      "\n"
     ]
    }
   ],
   "source": [
    "df_pyspark.select('age','place','name').show()"
   ]
  },
  {
   "cell_type": "code",
   "execution_count": 59,
   "id": "8cdd8d6f",
   "metadata": {},
   "outputs": [
    {
     "data": {
      "text/plain": [
       "[('name', 'string'), ('place', 'string'), ('age', 'int')]"
      ]
     },
     "execution_count": 59,
     "metadata": {},
     "output_type": "execute_result"
    }
   ],
   "source": [
    "df_pyspark.dtypes"
   ]
  },
  {
   "cell_type": "code",
   "execution_count": null,
   "id": "73f7ffd6",
   "metadata": {},
   "outputs": [],
   "source": []
  }
 ],
 "metadata": {
  "kernelspec": {
   "display_name": "Pyspark",
   "language": "python",
   "name": "pyspark"
  },
  "language_info": {
   "codemirror_mode": {
    "name": "ipython",
    "version": 3
   },
   "file_extension": ".py",
   "mimetype": "text/x-python",
   "name": "python",
   "nbconvert_exporter": "python",
   "pygments_lexer": "ipython3",
   "version": "3.11.5"
  }
 },
 "nbformat": 4,
 "nbformat_minor": 5
}
