{
 "cells": [
  {
   "cell_type": "code",
   "execution_count": 1,
   "id": "c71fd43a",
   "metadata": {},
   "outputs": [
    {
     "name": "stdout",
     "output_type": "stream",
     "text": [
      "Requirement already satisfied: pandas in /Users/harsh/anaconda3/lib/python3.11/site-packages (2.0.3)\n",
      "Requirement already satisfied: python-dateutil>=2.8.2 in /Users/harsh/anaconda3/lib/python3.11/site-packages (from pandas) (2.8.2)\n",
      "Requirement already satisfied: pytz>=2020.1 in /Users/harsh/anaconda3/lib/python3.11/site-packages (from pandas) (2023.3.post1)\n",
      "Requirement already satisfied: tzdata>=2022.1 in /Users/harsh/anaconda3/lib/python3.11/site-packages (from pandas) (2023.3)\n",
      "Requirement already satisfied: numpy>=1.21.0 in /Users/harsh/anaconda3/lib/python3.11/site-packages (from pandas) (1.24.3)\n",
      "Requirement already satisfied: six>=1.5 in /Users/harsh/anaconda3/lib/python3.11/site-packages (from python-dateutil>=2.8.2->pandas) (1.16.0)\n"
     ]
    }
   ],
   "source": [
    "!pip install pandas"
   ]
  },
  {
   "cell_type": "code",
   "execution_count": 2,
   "id": "005e2ef5",
   "metadata": {},
   "outputs": [],
   "source": [
    "import pyspark"
   ]
  },
  {
   "cell_type": "code",
   "execution_count": 3,
   "id": "bdc5428b",
   "metadata": {},
   "outputs": [
    {
     "data": {
      "text/html": [
       "<div>\n",
       "<style scoped>\n",
       "    .dataframe tbody tr th:only-of-type {\n",
       "        vertical-align: middle;\n",
       "    }\n",
       "\n",
       "    .dataframe tbody tr th {\n",
       "        vertical-align: top;\n",
       "    }\n",
       "\n",
       "    .dataframe thead th {\n",
       "        text-align: right;\n",
       "    }\n",
       "</style>\n",
       "<table border=\"1\" class=\"dataframe\">\n",
       "  <thead>\n",
       "    <tr style=\"text-align: right;\">\n",
       "      <th></th>\n",
       "      <th>name</th>\n",
       "      <th>place</th>\n",
       "      <th>age</th>\n",
       "    </tr>\n",
       "  </thead>\n",
       "  <tbody>\n",
       "    <tr>\n",
       "      <th>0</th>\n",
       "      <td>HL</td>\n",
       "      <td>hqwjdbxqwj</td>\n",
       "      <td>32</td>\n",
       "    </tr>\n",
       "    <tr>\n",
       "      <th>1</th>\n",
       "      <td>ab</td>\n",
       "      <td>dbqjhbdqhd</td>\n",
       "      <td>43</td>\n",
       "    </tr>\n",
       "    <tr>\n",
       "      <th>2</th>\n",
       "      <td>dnsajk</td>\n",
       "      <td>dqbjwqwdq</td>\n",
       "      <td>73</td>\n",
       "    </tr>\n",
       "    <tr>\n",
       "      <th>3</th>\n",
       "      <td>Asdb</td>\n",
       "      <td>Bjhdam s</td>\n",
       "      <td>21</td>\n",
       "    </tr>\n",
       "    <tr>\n",
       "      <th>4</th>\n",
       "      <td>dsakdjbad</td>\n",
       "      <td>Dabd an dqwd</td>\n",
       "      <td>64</td>\n",
       "    </tr>\n",
       "    <tr>\n",
       "      <th>5</th>\n",
       "      <td>djdwddw</td>\n",
       "      <td>Dbqjdjhdbq xaqx</td>\n",
       "      <td>38</td>\n",
       "    </tr>\n",
       "    <tr>\n",
       "      <th>6</th>\n",
       "      <td>kduqyhnwdx</td>\n",
       "      <td>xkqwbd</td>\n",
       "      <td>55</td>\n",
       "    </tr>\n",
       "    <tr>\n",
       "      <th>7</th>\n",
       "      <td>abscancaqwd</td>\n",
       "      <td>Baiukqxa</td>\n",
       "      <td>15</td>\n",
       "    </tr>\n",
       "  </tbody>\n",
       "</table>\n",
       "</div>"
      ],
      "text/plain": [
       "          name            place  age\n",
       "0           HL       hqwjdbxqwj   32\n",
       "1           ab       dbqjhbdqhd   43\n",
       "2       dnsajk        dqbjwqwdq   73\n",
       "3         Asdb         Bjhdam s   21\n",
       "4    dsakdjbad     Dabd an dqwd   64\n",
       "5      djdwddw  Dbqjdjhdbq xaqx   38\n",
       "6   kduqyhnwdx           xkqwbd   55\n",
       "7  abscancaqwd         Baiukqxa   15"
      ]
     },
     "execution_count": 3,
     "metadata": {},
     "output_type": "execute_result"
    }
   ],
   "source": [
    "import pandas as pd\n",
    "pd.read_csv(\"sample1.csv\")"
   ]
  },
  {
   "cell_type": "code",
   "execution_count": 4,
   "id": "921335ab",
   "metadata": {},
   "outputs": [],
   "source": [
    "##The SparkSession class is the entry point for working with Spark SQL, which is an API for working with structured data (data organized in rows and columns) in Spark.\n",
    "# By importing SparkSession, you gain access to functionalities for creating SparkSession objects, interacting with data sources, and performing various data processing operations.\n",
    "from pyspark.sql import SparkSession"
   ]
  },
  {
   "cell_type": "code",
   "execution_count": 5,
   "id": "8d7268f3",
   "metadata": {},
   "outputs": [
    {
     "name": "stderr",
     "output_type": "stream",
     "text": [
      "Setting default log level to \"WARN\".\n",
      "To adjust logging level use sc.setLogLevel(newLevel). For SparkR, use setLogLevel(newLevel).\n",
      "24/05/05 03:30:42 WARN NativeCodeLoader: Unable to load native-hadoop library for your platform... using builtin-java classes where applicable\n"
     ]
    }
   ],
   "source": [
    "\n",
    "#SparkSession.builder: This creates a builder object to configure the SparkSession.\n",
    "#appName('Practice'): This method sets the application name as \"Practice\". This name is simply a label for your Spark application and can be helpful for identification in logs or cluster management.\n",
    "#getOrCreate(): This method builds the SparkSession object based on the configurations and attempts to retrieve an existing SparkSession if one is already running. If no existing session is found, it creates a new one.\n",
    "\n",
    "spark=SparkSession.builder.appName('Practice').getOrCreate()"
   ]
  },
  {
   "cell_type": "code",
   "execution_count": 6,
   "id": "1fa819c2",
   "metadata": {},
   "outputs": [
    {
     "data": {
      "text/html": [
       "\n",
       "            <div>\n",
       "                <p><b>SparkSession - in-memory</b></p>\n",
       "                \n",
       "        <div>\n",
       "            <p><b>SparkContext</b></p>\n",
       "\n",
       "            <p><a href=\"http://192.168.1.215:4040\">Spark UI</a></p>\n",
       "\n",
       "            <dl>\n",
       "              <dt>Version</dt>\n",
       "                <dd><code>v3.5.1</code></dd>\n",
       "              <dt>Master</dt>\n",
       "                <dd><code>local[*]</code></dd>\n",
       "              <dt>AppName</dt>\n",
       "                <dd><code>Practice</code></dd>\n",
       "            </dl>\n",
       "        </div>\n",
       "        \n",
       "            </div>\n",
       "        "
      ],
      "text/plain": [
       "<pyspark.sql.session.SparkSession at 0x13c94e690>"
      ]
     },
     "execution_count": 6,
     "metadata": {},
     "output_type": "execute_result"
    }
   ],
   "source": [
    "spark"
   ]
  },
  {
   "cell_type": "code",
   "execution_count": 7,
   "id": "927d2c54",
   "metadata": {},
   "outputs": [],
   "source": [
    "df_pyspark=spark.read.csv('sample1.csv')"
   ]
  },
  {
   "cell_type": "code",
   "execution_count": 8,
   "id": "12fc6c00",
   "metadata": {},
   "outputs": [
    {
     "data": {
      "text/plain": [
       "DataFrame[_c0: string, _c1: string, _c2: string]"
      ]
     },
     "execution_count": 8,
     "metadata": {},
     "output_type": "execute_result"
    }
   ],
   "source": [
    "df_pyspark"
   ]
  },
  {
   "cell_type": "code",
   "execution_count": 9,
   "id": "3ae24d1f",
   "metadata": {},
   "outputs": [
    {
     "name": "stdout",
     "output_type": "stream",
     "text": [
      "+-----------+---------------+---+\n",
      "|        _c0|            _c1|_c2|\n",
      "+-----------+---------------+---+\n",
      "|       name|          place|age|\n",
      "|         HL|     hqwjdbxqwj| 32|\n",
      "|         ab|     dbqjhbdqhd| 43|\n",
      "|     dnsajk|      dqbjwqwdq| 73|\n",
      "|       Asdb|       Bjhdam s| 21|\n",
      "|  dsakdjbad|   Dabd an dqwd| 64|\n",
      "|    djdwddw|Dbqjdjhdbq xaqx| 38|\n",
      "| kduqyhnwdx|         xkqwbd| 55|\n",
      "|abscancaqwd|       Baiukqxa| 15|\n",
      "+-----------+---------------+---+\n",
      "\n"
     ]
    }
   ],
   "source": [
    "df_pyspark.show()"
   ]
  },
  {
   "cell_type": "code",
   "execution_count": 23,
   "id": "3b497674",
   "metadata": {},
   "outputs": [],
   "source": [
    "df_pyspark=spark.read.option('header','true').csv('sample1.csv',inferSchema=True)"
   ]
  },
  {
   "cell_type": "code",
   "execution_count": 24,
   "id": "e6269b50",
   "metadata": {},
   "outputs": [
    {
     "data": {
      "text/plain": [
       "pyspark.sql.dataframe.DataFrame"
      ]
     },
     "execution_count": 24,
     "metadata": {},
     "output_type": "execute_result"
    }
   ],
   "source": [
    "type(df_pyspark)"
   ]
  },
  {
   "cell_type": "code",
   "execution_count": 25,
   "id": "bbf534b2",
   "metadata": {},
   "outputs": [
    {
     "name": "stdout",
     "output_type": "stream",
     "text": [
      "+-----------+---------------+---+\n",
      "|       name|          place|age|\n",
      "+-----------+---------------+---+\n",
      "|         HL|     hqwjdbxqwj| 32|\n",
      "|         ab|     dbqjhbdqhd| 43|\n",
      "|     dnsajk|      dqbjwqwdq| 73|\n",
      "|       Asdb|       Bjhdam s| 21|\n",
      "|  dsakdjbad|   Dabd an dqwd| 64|\n",
      "|    djdwddw|Dbqjdjhdbq xaqx| 38|\n",
      "| kduqyhnwdx|         xkqwbd| 55|\n",
      "|abscancaqwd|       Baiukqxa| 15|\n",
      "+-----------+---------------+---+\n",
      "\n"
     ]
    }
   ],
   "source": [
    "df_pyspark.show()"
   ]
  },
  {
   "cell_type": "code",
   "execution_count": 26,
   "id": "b2edd7af",
   "metadata": {},
   "outputs": [
    {
     "name": "stdout",
     "output_type": "stream",
     "text": [
      "root\n",
      " |-- name: string (nullable = true)\n",
      " |-- place: string (nullable = true)\n",
      " |-- age: integer (nullable = true)\n",
      "\n"
     ]
    }
   ],
   "source": [
    "df_pyspark.printSchema()"
   ]
  },
  {
   "cell_type": "code",
   "execution_count": 54,
   "id": "4dbbfc72",
   "metadata": {},
   "outputs": [
    {
     "data": {
      "text/plain": [
       "['name', 'place', 'age']"
      ]
     },
     "execution_count": 54,
     "metadata": {},
     "output_type": "execute_result"
    }
   ],
   "source": [
    "df_pyspark.columns"
   ]
  },
  {
   "cell_type": "code",
   "execution_count": 56,
   "id": "37f8309b",
   "metadata": {},
   "outputs": [
    {
     "name": "stdout",
     "output_type": "stream",
     "text": [
      "+---+---------------+-----------+\n",
      "|age|          place|       name|\n",
      "+---+---------------+-----------+\n",
      "| 32|     hqwjdbxqwj|         HL|\n",
      "| 43|     dbqjhbdqhd|         ab|\n",
      "| 73|      dqbjwqwdq|     dnsajk|\n",
      "| 21|       Bjhdam s|       Asdb|\n",
      "| 64|   Dabd an dqwd|  dsakdjbad|\n",
      "| 38|Dbqjdjhdbq xaqx|    djdwddw|\n",
      "| 55|         xkqwbd| kduqyhnwdx|\n",
      "| 15|       Baiukqxa|abscancaqwd|\n",
      "+---+---------------+-----------+\n",
      "\n"
     ]
    }
   ],
   "source": [
    "df_pyspark.select('age','place','name').show()"
   ]
  },
  {
   "cell_type": "code",
   "execution_count": 59,
   "id": "376fb972",
   "metadata": {},
   "outputs": [
    {
     "data": {
      "text/plain": [
       "[('name', 'string'), ('place', 'string'), ('age', 'int')]"
      ]
     },
     "execution_count": 59,
     "metadata": {},
     "output_type": "execute_result"
    }
   ],
   "source": [
    "df_pyspark.dtypes"
   ]
  },
  {
   "cell_type": "code",
   "execution_count": 60,
   "id": "b67b4551",
   "metadata": {},
   "outputs": [
    {
     "name": "stdout",
     "output_type": "stream",
     "text": [
      "+-------+----------+----------+------------------+\n",
      "|summary|      name|     place|               age|\n",
      "+-------+----------+----------+------------------+\n",
      "|  count|         8|         8|                 8|\n",
      "|   mean|      NULL|      NULL|            42.625|\n",
      "| stddev|      NULL|      NULL|20.346551129298128|\n",
      "|    min|      Asdb|    xkqwbd|                15|\n",
      "|    max|kduqyhnwdx|hqwjdbxqwj|                73|\n",
      "+-------+----------+----------+------------------+\n",
      "\n"
     ]
    }
   ],
   "source": [
    "df_pyspark.describe().show()"
   ]
  },
  {
   "cell_type": "code",
   "execution_count": 69,
   "id": "475bcd34",
   "metadata": {},
   "outputs": [],
   "source": [
    "from pyspark.sql.functions import col, concat,lit"
   ]
  },
  {
   "cell_type": "code",
   "execution_count": 75,
   "id": "cfc12a68",
   "metadata": {},
   "outputs": [],
   "source": [
    "##Adding columns in dataframe\n",
    "df_updated=df_pyspark.withColumn('name_updated',concat(col('name'),lit('AAA')))"
   ]
  },
  {
   "cell_type": "code",
   "execution_count": 73,
   "id": "a2987f0e",
   "metadata": {},
   "outputs": [
    {
     "name": "stdout",
     "output_type": "stream",
     "text": [
      "+-----------+---------------+---+--------------+\n",
      "|       name|          place|age|  name_updated|\n",
      "+-----------+---------------+---+--------------+\n",
      "|         HL|     hqwjdbxqwj| 32|         HLAAA|\n",
      "|         ab|     dbqjhbdqhd| 43|         abAAA|\n",
      "|     dnsajk|      dqbjwqwdq| 73|     dnsajkAAA|\n",
      "|       Asdb|       Bjhdam s| 21|       AsdbAAA|\n",
      "|  dsakdjbad|   Dabd an dqwd| 64|  dsakdjbadAAA|\n",
      "|    djdwddw|Dbqjdjhdbq xaqx| 38|    djdwddwAAA|\n",
      "| kduqyhnwdx|         xkqwbd| 55| kduqyhnwdxAAA|\n",
      "|abscancaqwd|       Baiukqxa| 15|abscancaqwdAAA|\n",
      "+-----------+---------------+---+--------------+\n",
      "\n"
     ]
    }
   ],
   "source": [
    "df_updated.show()"
   ]
  },
  {
   "cell_type": "code",
   "execution_count": 135,
   "id": "5bcbc470",
   "metadata": {},
   "outputs": [],
   "source": [
    "df_updated1=df_pyspark.withColumn('age_after20years',concat(df_pyspark['age'],df_pyspark['place']))"
   ]
  },
  {
   "cell_type": "code",
   "execution_count": 133,
   "id": "5e45dd42",
   "metadata": {},
   "outputs": [],
   "source": [
    "df_updated2 = df_pyspark.withColumn('name_updated', concat(df_pyspark['name'],lit( '    AAA')))\n"
   ]
  },
  {
   "cell_type": "code",
   "execution_count": 136,
   "id": "cfe56bca",
   "metadata": {},
   "outputs": [
    {
     "name": "stdout",
     "output_type": "stream",
     "text": [
      "+-----------+---------------+---+-----------------+\n",
      "|       name|          place|age| age_after20years|\n",
      "+-----------+---------------+---+-----------------+\n",
      "|         HL|     hqwjdbxqwj| 32|     32hqwjdbxqwj|\n",
      "|         ab|     dbqjhbdqhd| 43|     43dbqjhbdqhd|\n",
      "|     dnsajk|      dqbjwqwdq| 73|      73dqbjwqwdq|\n",
      "|       Asdb|       Bjhdam s| 21|       21Bjhdam s|\n",
      "|  dsakdjbad|   Dabd an dqwd| 64|   64Dabd an dqwd|\n",
      "|    djdwddw|Dbqjdjhdbq xaqx| 38|38Dbqjdjhdbq xaqx|\n",
      "| kduqyhnwdx|         xkqwbd| 55|        55 xkqwbd|\n",
      "|abscancaqwd|       Baiukqxa| 15|       15Baiukqxa|\n",
      "+-----------+---------------+---+-----------------+\n",
      "\n"
     ]
    }
   ],
   "source": [
    "df_updated1.show()"
   ]
  },
  {
   "cell_type": "code",
   "execution_count": 134,
   "id": "ccac740b",
   "metadata": {},
   "outputs": [
    {
     "name": "stdout",
     "output_type": "stream",
     "text": [
      "+-----------+---------------+---+------------------+\n",
      "|       name|          place|age|      name_updated|\n",
      "+-----------+---------------+---+------------------+\n",
      "|         HL|     hqwjdbxqwj| 32|         HL    AAA|\n",
      "|         ab|     dbqjhbdqhd| 43|         ab    AAA|\n",
      "|     dnsajk|      dqbjwqwdq| 73|     dnsajk    AAA|\n",
      "|       Asdb|       Bjhdam s| 21|       Asdb    AAA|\n",
      "|  dsakdjbad|   Dabd an dqwd| 64|  dsakdjbad    AAA|\n",
      "|    djdwddw|Dbqjdjhdbq xaqx| 38|    djdwddw    AAA|\n",
      "| kduqyhnwdx|         xkqwbd| 55| kduqyhnwdx    AAA|\n",
      "|abscancaqwd|       Baiukqxa| 15|abscancaqwd    AAA|\n",
      "+-----------+---------------+---+------------------+\n",
      "\n"
     ]
    }
   ],
   "source": [
    "df_updated2.show()"
   ]
  },
  {
   "cell_type": "code",
   "execution_count": 81,
   "id": "e1a10f42",
   "metadata": {},
   "outputs": [
    {
     "name": "stdout",
     "output_type": "stream",
     "text": [
      "root\n",
      " |-- name: string (nullable = true)\n",
      " |-- place: string (nullable = true)\n",
      " |-- age: integer (nullable = true)\n",
      " |-- name_updated: string (nullable = true)\n",
      "\n"
     ]
    }
   ],
   "source": [
    "df_updated1.printSchema()"
   ]
  },
  {
   "cell_type": "code",
   "execution_count": null,
   "id": "f008ac75",
   "metadata": {},
   "outputs": [],
   "source": []
  }
 ],
 "metadata": {
  "kernelspec": {
   "display_name": "Pyspark",
   "language": "python",
   "name": "pyspark"
  },
  "language_info": {
   "codemirror_mode": {
    "name": "ipython",
    "version": 3
   },
   "file_extension": ".py",
   "mimetype": "text/x-python",
   "name": "python",
   "nbconvert_exporter": "python",
   "pygments_lexer": "ipython3",
   "version": "3.11.5"
  }
 },
 "nbformat": 4,
 "nbformat_minor": 5
}
